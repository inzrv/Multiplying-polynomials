{
 "cells": [
  {
   "cell_type": "markdown",
   "metadata": {},
   "source": [
    "## Description\n",
    "This is a simple realization of polynomial multiplication with a FFT approach.\n",
    "\n",
    "The `fft.fft()` function from the `fft` module takes a poly $p ~ : ~ \\deg{p} = n-1 $ , a complex number $\\omega = e^{\\frac{2 \\pi i}{n}}$ and return an array of values $p(\\omega^j), ~ j \\in 0 \\dots n-1 $.\n",
    "\n",
    "The `fft.mult()` function multiplies two polynomials using the function described above.\n",
    "\n",
    "## Tests\n",
    "There is a `test()` function that compares the output from `fft.mult(p1, p2)` with `p1 * p2`, where `*` is the operator from `numpy.Polynomial`. `p1` and `p2` are random polynomials with integer coefficients. $1 \\leqslant \\deg p_1, \\deg p_2 < 10$."
   ]
  },
  {
   "cell_type": "code",
   "execution_count": null,
   "metadata": {},
   "outputs": [],
   "source": [
    "import test\n",
    "test.test()"
   ]
  }
 ],
 "metadata": {
  "kernelspec": {
   "display_name": "Python 3",
   "language": "python",
   "name": "python3"
  },
  "language_info": {
   "codemirror_mode": {
    "name": "ipython",
    "version": 3
   },
   "file_extension": ".py",
   "mimetype": "text/x-python",
   "name": "python",
   "nbconvert_exporter": "python",
   "pygments_lexer": "ipython3",
   "version": "3.11.2"
  },
  "orig_nbformat": 4
 },
 "nbformat": 4,
 "nbformat_minor": 2
}
