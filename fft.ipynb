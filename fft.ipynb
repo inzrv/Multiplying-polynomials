{
 "cells": [
  {
   "cell_type": "code",
   "execution_count": 3,
   "metadata": {},
   "outputs": [],
   "source": [
    "import math\n",
    "import cmath\n",
    "import numpy as np\n",
    "import numpy.polynomial.polynomial as polynomial\n",
    "import fft"
   ]
  },
  {
   "cell_type": "code",
   "execution_count": 7,
   "metadata": {},
   "outputs": [],
   "source": [
    "\n",
    "def split_poly(p):\n",
    "    assert(len(p) % 2 == 0)\n",
    "    even = []\n",
    "    odd = []\n",
    "    for i in range(0, len(p), 2):\n",
    "        even.append(p[i])\n",
    "        odd.append(p[i + 1])\n",
    "    return [even, odd]\n",
    "\n",
    "def align_polynomials(p1 : list, p2 :list):\n",
    "    n1 = len(p1)\n",
    "    n2 = len(p2)\n",
    "    req_deg = max(n1, n2)\n",
    "    make_required_degree(p1, req_deg - 1)\n",
    "    make_required_degree(p2, req_deg - 1)\n",
    "\n",
    "def make_required_degree(p : list, n : int):\n",
    "    while len(p) <= n:\n",
    "        p.append(0)\n",
    "\n",
    "def next_power_of_2(n):\n",
    "    if n <= 0:\n",
    "        return 0\n",
    "    return pow(2, math.ceil(math.log(n)/math.log(2)))\n",
    "\n",
    "def nth_roots_1(n):\n",
    "    poly = [0] * (n + 1)\n",
    "    poly[0] = 1.0\n",
    "    poly[-1] = -1.0\n",
    "    return np.roots(poly)\n",
    "\n",
    "def get_w_1(n):\n",
    "    assert(n > 0)\n",
    "    roots = nth_roots_1(n)\n",
    "    first_root = roots[0]\n",
    "    for root in roots:\n",
    "        root_polar = cmath.polar(root)\n",
    "        first_root_polar = cmath.polar(first_root)\n",
    "        if (root_polar[1] > 0 and root_polar[1] < first_root_polar[1]):\n",
    "            first_root = root\n",
    "    return first_root\n"
   ]
  },
  {
   "cell_type": "code",
   "execution_count": 12,
   "metadata": {},
   "outputs": [],
   "source": [
    "def fft_1(p, w):\n",
    "    if (cmath.isclose(w, complex(1,0))):\n",
    "        return [p[0]]\n",
    "    n = len(p)\n",
    "    [even, odd] = split_poly(p)\n",
    "    s1 = fft(even, w * w)\n",
    "    s2 = fft(odd, w * w)\n",
    "    r = [0] * n\n",
    "    for j in range(0, (n // 2)):\n",
    "        r[j] = s1[j] + (w ** j) * s2[j]\n",
    "        r[j + (n // 2)]  = s1[j] - (w ** j) * s2[j]\n",
    "    return r\n",
    "\n",
    "def inv_fft(points, w):\n",
    "    poly = fft(points, (1 / w))\n",
    "    n = len(poly)\n",
    "    res = [coef * (1 / n) for coef in poly]\n",
    "    return res"
   ]
  },
  {
   "cell_type": "code",
   "execution_count": 13,
   "metadata": {},
   "outputs": [
    {
     "ename": "NameError",
     "evalue": "name 'nth_roots' is not defined",
     "output_type": "error",
     "traceback": [
      "\u001b[0;31m---------------------------------------------------------------------------\u001b[0m",
      "\u001b[0;31mNameError\u001b[0m                                 Traceback (most recent call last)",
      "\u001b[1;32m/Users/ivannazarov/Algorithms/Notes/fft/fft.ipynb Cell 4\u001b[0m line \u001b[0;36m2\n\u001b[1;32m      <a href='vscode-notebook-cell:/Users/ivannazarov/Algorithms/Notes/fft/fft.ipynb#X23sZmlsZQ%3D%3D?line=0'>1</a>\u001b[0m f \u001b[39m=\u001b[39m [\u001b[39m1\u001b[39m,\u001b[39m2\u001b[39m,\u001b[39m3\u001b[39m,\u001b[39m4\u001b[39m,\u001b[39m5\u001b[39m,\u001b[39m6\u001b[39m,\u001b[39m7\u001b[39m]\n\u001b[0;32m----> <a href='vscode-notebook-cell:/Users/ivannazarov/Algorithms/Notes/fft/fft.ipynb#X23sZmlsZQ%3D%3D?line=1'>2</a>\u001b[0m w \u001b[39m=\u001b[39m get_w_1(\u001b[39m8\u001b[39;49m)\n\u001b[1;32m      <a href='vscode-notebook-cell:/Users/ivannazarov/Algorithms/Notes/fft/fft.ipynb#X23sZmlsZQ%3D%3D?line=2'>3</a>\u001b[0m fft_1(f, w)\n",
      "\u001b[1;32m/Users/ivannazarov/Algorithms/Notes/fft/fft.ipynb Cell 4\u001b[0m line \u001b[0;36m3\n\u001b[1;32m     <a href='vscode-notebook-cell:/Users/ivannazarov/Algorithms/Notes/fft/fft.ipynb#X23sZmlsZQ%3D%3D?line=31'>32</a>\u001b[0m \u001b[39mdef\u001b[39;00m \u001b[39mget_w_1\u001b[39m(n):\n\u001b[1;32m     <a href='vscode-notebook-cell:/Users/ivannazarov/Algorithms/Notes/fft/fft.ipynb#X23sZmlsZQ%3D%3D?line=32'>33</a>\u001b[0m     \u001b[39massert\u001b[39;00m(n \u001b[39m>\u001b[39m \u001b[39m0\u001b[39m)\n\u001b[0;32m---> <a href='vscode-notebook-cell:/Users/ivannazarov/Algorithms/Notes/fft/fft.ipynb#X23sZmlsZQ%3D%3D?line=33'>34</a>\u001b[0m     roots \u001b[39m=\u001b[39m nth_roots(n)\n\u001b[1;32m     <a href='vscode-notebook-cell:/Users/ivannazarov/Algorithms/Notes/fft/fft.ipynb#X23sZmlsZQ%3D%3D?line=34'>35</a>\u001b[0m     first_root \u001b[39m=\u001b[39m roots[\u001b[39m0\u001b[39m]\n\u001b[1;32m     <a href='vscode-notebook-cell:/Users/ivannazarov/Algorithms/Notes/fft/fft.ipynb#X23sZmlsZQ%3D%3D?line=35'>36</a>\u001b[0m     \u001b[39mfor\u001b[39;00m root \u001b[39min\u001b[39;00m roots:\n",
      "\u001b[0;31mNameError\u001b[0m: name 'nth_roots' is not defined"
     ]
    }
   ],
   "source": [
    "f = [1,2,3,4,5,6,7]\n",
    "w = get_w_1(8)\n",
    "fft_1(f, w)"
   ]
  },
  {
   "cell_type": "code",
   "execution_count": 5,
   "metadata": {},
   "outputs": [],
   "source": [
    "def product(poly1, poly2):\n",
    "    res_deg = (len(poly1) - 1) + (len(poly2) - 1)\n",
    "    n = next_power_of_2(res_deg + 1)\n",
    "    make_required_degree(poly1, n - 1)\n",
    "    make_required_degree(poly2, n - 1)\n",
    "    w = get_w(n)\n",
    "    points1 = fft(poly1, w)\n",
    "    points2 = fft(poly2, w)\n",
    "    points_res = [ y1 * y2 for (y1, y2) in zip(points1, points2)]\n",
    "    poly_res = inv_fft(points_res, w)\n",
    "    return poly_res"
   ]
  },
  {
   "cell_type": "code",
   "execution_count": 6,
   "metadata": {},
   "outputs": [],
   "source": [
    "def to_integer_poly(p):\n",
    "    real_poly = [np.real(coef) for coef in p]\n",
    "    return np.rint(real_poly).astype(int)"
   ]
  },
  {
   "cell_type": "code",
   "execution_count": 53,
   "metadata": {},
   "outputs": [],
   "source": [
    "def random_poly(deg, low, high):\n",
    "    poly = np.random.randint(low, high, deg)\n",
    "    while poly[deg - 1] == 0:\n",
    "        poly[deg - 1] = np.random.randint(low, high, 1)\n",
    "    return list(poly)\n",
    "\n",
    "def test_multiplication(deg1, deg2):\n",
    "    low = -10\n",
    "    high = 10\n",
    "    poly1 = random_poly(deg1, low, high)\n",
    "    poly2 = random_poly(deg2, low, high)\n",
    "\n",
    "    fft_poly = list(to_integer_poly(product(poly1.copy(), poly2.copy())))\n",
    "\n",
    "    poly1_rev = poly1.copy()\n",
    "    poly1_rev.reverse()\n",
    "    poly2_rev = poly2.copy()\n",
    "    poly2_rev.reverse()\n",
    "    np_poly = list(np.polymul(poly1_rev, poly2_rev))\n",
    "    np_poly.reverse()\n",
    "    align_polynomials(fft_poly, np_poly)\n",
    "    is_eq = (fft_poly == np_poly)\n",
    "    return [is_eq, poly1, poly2, fft_poly, np_poly]"
   ]
  },
  {
   "cell_type": "code",
   "execution_count": 52,
   "metadata": {},
   "outputs": [],
   "source": [
    "def test():\n",
    "    for i in range(1, 10):\n",
    "        for j in range(1, 10):\n",
    "            is_eq, poly1, poly2, fft_poly, np_poly = test_multiplication(i, j)\n",
    "            if not is_eq:\n",
    "                print(\"Error!\")\n",
    "                print(\"poly1 = \", poly1)\n",
    "                print(\"poly2 = \", poly2)\n",
    "                print(\"fft_poly = \", fft_poly)\n",
    "                print(\"np_poly = \", np_poly)\n",
    "                return\n",
    "    print(\"All cases passed successfully\")\n",
    "    return\n"
   ]
  },
  {
   "cell_type": "code",
   "execution_count": 54,
   "metadata": {},
   "outputs": [
    {
     "name": "stdout",
     "output_type": "stream",
     "text": [
      "All cases passed successfully\n"
     ]
    }
   ],
   "source": [
    "test()"
   ]
  }
 ],
 "metadata": {
  "kernelspec": {
   "display_name": "Python 3",
   "language": "python",
   "name": "python3"
  },
  "language_info": {
   "codemirror_mode": {
    "name": "ipython",
    "version": 3
   },
   "file_extension": ".py",
   "mimetype": "text/x-python",
   "name": "python",
   "nbconvert_exporter": "python",
   "pygments_lexer": "ipython3",
   "version": "3.11.2"
  },
  "orig_nbformat": 4
 },
 "nbformat": 4,
 "nbformat_minor": 2
}
